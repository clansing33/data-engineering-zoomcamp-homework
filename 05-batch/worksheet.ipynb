{
 "cells": [
  {
   "cell_type": "code",
   "execution_count": 1,
   "id": "c01e093f-2706-4873-9f9a-5480619294e8",
   "metadata": {},
   "outputs": [],
   "source": [
    "import pyspark\n",
    "from pyspark.sql import SparkSession"
   ]
  },
  {
   "cell_type": "code",
   "execution_count": 2,
   "id": "8f657931",
   "metadata": {},
   "outputs": [
    {
     "name": "stdout",
     "output_type": "stream",
     "text": [
      "25/02/25 23:09:43 WARN SparkSession: Using an existing Spark session; only runtime SQL configurations will take effect.\n"
     ]
    }
   ],
   "source": [
    "spark = SparkSession.builder \\\n",
    "    .master(\"local[*]\") \\\n",
    "    .appName('module-5') \\\n",
    "    .getOrCreate()"
   ]
  },
  {
   "cell_type": "code",
   "execution_count": 3,
   "id": "e32e6b7a-2a29-4c65-b12e-c6258fde62e0",
   "metadata": {},
   "outputs": [
    {
     "name": "stderr",
     "output_type": "stream",
     "text": [
      "                                                                                                                                                                                                                             "
     ]
    }
   ],
   "source": [
    "df0 = spark.read.parquet('yellow_tripdata_2024-10.parquet')"
   ]
  },
  {
   "cell_type": "code",
   "execution_count": null,
   "id": "3255455f-0250-4b10-a7ac-e7d681eb0eb9",
   "metadata": {},
   "outputs": [],
   "source": [
    "df0.printSchema()"
   ]
  },
  {
   "cell_type": "code",
   "execution_count": 4,
   "id": "51192e81-9a9d-4a0d-a5b5-acb44a811bb7",
   "metadata": {},
   "outputs": [],
   "source": [
    "df1 = df0.repartition(4)"
   ]
  },
  {
   "cell_type": "code",
   "execution_count": null,
   "id": "2e0eb2f9-a62c-4ec7-93a9-9b97b43d70a1",
   "metadata": {},
   "outputs": [],
   "source": [
    "output_path = './yellow-10-24/'\n",
    "df1.write.parquet(output_path)"
   ]
  },
  {
   "cell_type": "code",
   "execution_count": 7,
   "id": "13c03f94-7b31-44c4-8d41-17aa5d12ce0c",
   "metadata": {},
   "outputs": [
    {
     "data": {
      "text/plain": [
       "3833771"
      ]
     },
     "execution_count": 7,
     "metadata": {},
     "output_type": "execute_result"
    }
   ],
   "source": [
    "df0.count()"
   ]
  },
  {
   "cell_type": "code",
   "execution_count": 6,
   "id": "dfb804e0-94c5-4a0b-942f-70ff8ae455e7",
   "metadata": {},
   "outputs": [
    {
     "name": "stdout",
     "output_type": "stream",
     "text": [
      "root\n",
      " |-- VendorID: integer (nullable = true)\n",
      " |-- tpep_pickup_datetime: timestamp (nullable = true)\n",
      " |-- tpep_dropoff_datetime: timestamp (nullable = true)\n",
      " |-- passenger_count: long (nullable = true)\n",
      " |-- trip_distance: double (nullable = true)\n",
      " |-- RatecodeID: long (nullable = true)\n",
      " |-- store_and_fwd_flag: string (nullable = true)\n",
      " |-- PULocationID: integer (nullable = true)\n",
      " |-- DOLocationID: integer (nullable = true)\n",
      " |-- payment_type: long (nullable = true)\n",
      " |-- fare_amount: double (nullable = true)\n",
      " |-- extra: double (nullable = true)\n",
      " |-- mta_tax: double (nullable = true)\n",
      " |-- tip_amount: double (nullable = true)\n",
      " |-- tolls_amount: double (nullable = true)\n",
      " |-- improvement_surcharge: double (nullable = true)\n",
      " |-- total_amount: double (nullable = true)\n",
      " |-- congestion_surcharge: double (nullable = true)\n",
      " |-- Airport_fee: double (nullable = true)\n",
      "\n"
     ]
    }
   ],
   "source": [
    "df1.printSchema()"
   ]
  },
  {
   "cell_type": "code",
   "execution_count": 15,
   "id": "f61fd0c8-f2b7-4dc6-9373-185230267131",
   "metadata": {},
   "outputs": [
    {
     "data": {
      "text/plain": [
       "128892"
      ]
     },
     "execution_count": 15,
     "metadata": {},
     "output_type": "execute_result"
    }
   ],
   "source": [
    "import pyspark.sql.functions as F\n",
    "\n",
    "(\n",
    "    df0\n",
    "    .withColumn(\"pickup_day\", F.date_trunc('day', df0.tpep_pickup_datetime))\n",
    "    .filter(F.col(\"pickup_day\") == \"2024-10-15 00:00:00\")\n",
    "    .count()\n",
    ")"
   ]
  },
  {
   "cell_type": "code",
   "execution_count": 17,
   "id": "398332f2-9b90-4cd1-b632-59fa55cd1ecc",
   "metadata": {},
   "outputs": [],
   "source": [
    "df0.createOrReplaceTempView('yellow_10_24')"
   ]
  },
  {
   "cell_type": "code",
   "execution_count": 21,
   "id": "1ae44c21-eadf-4d63-9029-3414b9d40522",
   "metadata": {},
   "outputs": [
    {
     "name": "stdout",
     "output_type": "stream",
     "text": [
      "+------------+\n",
      "|pickup_count|\n",
      "+------------+\n",
      "|      128892|\n",
      "+------------+\n",
      "\n"
     ]
    },
    {
     "name": "stderr",
     "output_type": "stream",
     "text": [
      "                                                                                                                                                                                                                             "
     ]
    }
   ],
   "source": [
    "spark.sql(\"\"\"\n",
    "select count(1) as pickup_count\n",
    "from yellow_10_24\n",
    "where tpep_pickup_datetime >= '2024-10-15'\n",
    "    and tpep_pickup_datetime < '2024-10-16'\n",
    "\"\"\"\n",
    ").show()"
   ]
  },
  {
   "cell_type": "code",
   "execution_count": 28,
   "id": "a400db03-cd3e-4e54-b993-053aa9e96266",
   "metadata": {},
   "outputs": [
    {
     "name": "stdout",
     "output_type": "stream",
     "text": [
      "+--------------------+---------------------+---------+\n",
      "|tpep_pickup_datetime|tpep_dropoff_datetime|hour_diff|\n",
      "+--------------------+---------------------+---------+\n",
      "| 2024-10-16 08:03:49|  2024-10-23 02:40:53|      162|\n",
      "| 2024-10-03 13:47:25|  2024-10-09 13:06:55|      143|\n",
      "| 2024-10-22 11:00:55|  2024-10-28 04:46:33|      137|\n",
      "| 2024-10-18 04:53:32|  2024-10-22 23:43:37|      114|\n",
      "| 2024-10-20 19:36:24|  2024-10-24 13:30:18|       89|\n",
      "| 2024-10-20 08:30:52|  2024-10-24 01:57:38|       89|\n",
      "| 2024-10-22 11:04:52|  2024-10-25 09:22:49|       70|\n",
      "| 2024-10-12 14:32:51|  2024-10-15 10:07:15|       67|\n",
      "| 2024-10-17 12:58:18|  2024-10-20 07:02:18|       66|\n",
      "| 2024-10-21 09:28:21|  2024-10-23 07:53:42|       46|\n",
      "| 2024-10-20 13:58:28|  2024-10-22 08:17:00|       42|\n",
      "| 2024-10-24 15:29:58|  2024-10-26 05:58:25|       38|\n",
      "| 2024-10-23 18:52:02|  2024-10-25 04:49:06|       33|\n",
      "| 2024-10-02 05:36:50|  2024-10-03 07:54:45|       26|\n",
      "| 2024-10-15 06:49:15|  2024-10-16 08:03:33|       25|\n",
      "| 2024-10-14 17:39:53|  2024-10-15 18:57:22|       25|\n",
      "| 2024-10-23 06:22:58|  2024-10-24 06:51:10|       24|\n",
      "| 2024-10-29 16:42:00|  2024-10-30 16:28:38|       23|\n",
      "| 2024-10-29 15:04:34|  2024-10-30 14:45:34|       23|\n",
      "| 2024-10-29 13:19:35|  2024-10-30 13:10:58|       23|\n",
      "+--------------------+---------------------+---------+\n",
      "only showing top 20 rows\n",
      "\n"
     ]
    }
   ],
   "source": [
    "from pyspark.sql.functions import expr\n",
    "\n",
    "(\n",
    "    df0\n",
    "    .withColumn(\"hour_diff\", expr(\"TIMESTAMPDIFF(HOUR, tpep_pickup_datetime, tpep_dropoff_datetime)\"))\n",
    "    .select(\"tpep_pickup_datetime\", \"tpep_dropoff_datetime\", \"hour_diff\")\n",
    "    .sort(\"hour_diff\", ascending=False)\n",
    "    .show()\n",
    ")"
   ]
  },
  {
   "cell_type": "code",
   "execution_count": null,
   "id": "67d6c20e-e27c-4fbb-8db3-e64a32da2c0f",
   "metadata": {},
   "outputs": [],
   "source": []
  },
  {
   "cell_type": "code",
   "execution_count": null,
   "id": "9492bbf4-8919-49ba-b812-656065232c04",
   "metadata": {},
   "outputs": [],
   "source": [
    "## Lookup table"
   ]
  },
  {
   "cell_type": "code",
   "execution_count": 33,
   "id": "330d7af8-cfa8-4e3e-8247-6adc55c4c21b",
   "metadata": {},
   "outputs": [],
   "source": [
    "df_tz = spark.read \\\n",
    "    .option(\"header\", \"true\") \\\n",
    "    .csv('taxi_zone_lookup.csv')"
   ]
  },
  {
   "cell_type": "code",
   "execution_count": 34,
   "id": "cdb8f470-7f21-4d15-a262-da3ddd42e239",
   "metadata": {},
   "outputs": [
    {
     "name": "stdout",
     "output_type": "stream",
     "text": [
      "+----------+-------------+--------------------+------------+\n",
      "|LocationID|      Borough|                Zone|service_zone|\n",
      "+----------+-------------+--------------------+------------+\n",
      "|         1|          EWR|      Newark Airport|         EWR|\n",
      "|         2|       Queens|         Jamaica Bay|   Boro Zone|\n",
      "|         3|        Bronx|Allerton/Pelham G...|   Boro Zone|\n",
      "|         4|    Manhattan|       Alphabet City| Yellow Zone|\n",
      "|         5|Staten Island|       Arden Heights|   Boro Zone|\n",
      "|         6|Staten Island|Arrochar/Fort Wad...|   Boro Zone|\n",
      "|         7|       Queens|             Astoria|   Boro Zone|\n",
      "|         8|       Queens|        Astoria Park|   Boro Zone|\n",
      "|         9|       Queens|          Auburndale|   Boro Zone|\n",
      "|        10|       Queens|        Baisley Park|   Boro Zone|\n",
      "|        11|     Brooklyn|          Bath Beach|   Boro Zone|\n",
      "|        12|    Manhattan|        Battery Park| Yellow Zone|\n",
      "|        13|    Manhattan|   Battery Park City| Yellow Zone|\n",
      "|        14|     Brooklyn|           Bay Ridge|   Boro Zone|\n",
      "|        15|       Queens|Bay Terrace/Fort ...|   Boro Zone|\n",
      "|        16|       Queens|             Bayside|   Boro Zone|\n",
      "|        17|     Brooklyn|             Bedford|   Boro Zone|\n",
      "|        18|        Bronx|        Bedford Park|   Boro Zone|\n",
      "|        19|       Queens|           Bellerose|   Boro Zone|\n",
      "|        20|        Bronx|             Belmont|   Boro Zone|\n",
      "+----------+-------------+--------------------+------------+\n",
      "only showing top 20 rows\n",
      "\n"
     ]
    }
   ],
   "source": [
    "df_tz.show()"
   ]
  },
  {
   "cell_type": "code",
   "execution_count": null,
   "id": "93a025e2-be82-4438-92f8-42b8c52979d2",
   "metadata": {},
   "outputs": [],
   "source": []
  },
  {
   "cell_type": "code",
   "execution_count": 35,
   "id": "e74709a3-09e5-46a2-8a36-292263b9122f",
   "metadata": {},
   "outputs": [
    {
     "name": "stdout",
     "output_type": "stream",
     "text": [
      "root\n",
      " |-- VendorID: integer (nullable = true)\n",
      " |-- tpep_pickup_datetime: timestamp (nullable = true)\n",
      " |-- tpep_dropoff_datetime: timestamp (nullable = true)\n",
      " |-- passenger_count: long (nullable = true)\n",
      " |-- trip_distance: double (nullable = true)\n",
      " |-- RatecodeID: long (nullable = true)\n",
      " |-- store_and_fwd_flag: string (nullable = true)\n",
      " |-- PULocationID: integer (nullable = true)\n",
      " |-- DOLocationID: integer (nullable = true)\n",
      " |-- payment_type: long (nullable = true)\n",
      " |-- fare_amount: double (nullable = true)\n",
      " |-- extra: double (nullable = true)\n",
      " |-- mta_tax: double (nullable = true)\n",
      " |-- tip_amount: double (nullable = true)\n",
      " |-- tolls_amount: double (nullable = true)\n",
      " |-- improvement_surcharge: double (nullable = true)\n",
      " |-- total_amount: double (nullable = true)\n",
      " |-- congestion_surcharge: double (nullable = true)\n",
      " |-- Airport_fee: double (nullable = true)\n",
      " |-- LocationID: string (nullable = true)\n",
      " |-- Borough: string (nullable = true)\n",
      " |-- Zone: string (nullable = true)\n",
      " |-- service_zone: string (nullable = true)\n",
      "\n"
     ]
    }
   ],
   "source": [
    "(\n",
    "    df0.join(df_tz, on=df0.PULocationID == df_tz.LocationID)\n",
    ").printSchema()"
   ]
  },
  {
   "cell_type": "code",
   "execution_count": 46,
   "id": "23726d6f-4ea1-4900-862e-b45cc28d0e60",
   "metadata": {},
   "outputs": [
    {
     "name": "stdout",
     "output_type": "stream",
     "text": [
      "+---------------------------------------------+----------+\n",
      "|Zone                                         |zone_count|\n",
      "+---------------------------------------------+----------+\n",
      "|Governor's Island/Ellis Island/Liberty Island|1         |\n",
      "|Arden Heights                                |2         |\n",
      "|Rikers Island                                |2         |\n",
      "|Jamaica Bay                                  |3         |\n",
      "|Green-Wood Cemetery                          |3         |\n",
      "|Charleston/Tottenville                       |4         |\n",
      "|Port Richmond                                |4         |\n",
      "|Rossville/Woodrow                            |4         |\n",
      "|Eltingville/Annadale/Prince's Bay            |4         |\n",
      "|West Brighton                                |4         |\n",
      "|Crotona Park                                 |6         |\n",
      "|Great Kills                                  |6         |\n",
      "|Heartland Village/Todt Hill                  |7         |\n",
      "|Mariners Harbor                              |7         |\n",
      "|Saint George/New Brighton                    |9         |\n",
      "|Oakwood                                      |9         |\n",
      "|New Dorp/Midland Beach                       |10        |\n",
      "|Broad Channel                                |10        |\n",
      "|Westerleigh                                  |12        |\n",
      "|Pelham Bay Park                              |12        |\n",
      "+---------------------------------------------+----------+\n",
      "only showing top 20 rows\n",
      "\n"
     ]
    }
   ],
   "source": [
    "(\n",
    "    df0.join(df_tz, on=df0.PULocationID == df_tz.LocationID)\n",
    "    .select(\"Zone\", \"tpep_pickup_datetime\")\n",
    "    .groupBy(\"Zone\")\n",
    "    .agg(F.count(\"*\").alias(\"zone_count\")) \n",
    "    .sort(\"zone_count\")\n",
    ").show(truncate=False)"
   ]
  },
  {
   "cell_type": "code",
   "execution_count": null,
   "id": "86336f96-12a3-477f-bebd-c64a07271c74",
   "metadata": {},
   "outputs": [],
   "source": []
  }
 ],
 "metadata": {
  "kernelspec": {
   "display_name": "Python 3 (ipykernel)",
   "language": "python",
   "name": "python3"
  },
  "language_info": {
   "codemirror_mode": {
    "name": "ipython",
    "version": 3
   },
   "file_extension": ".py",
   "mimetype": "text/x-python",
   "name": "python",
   "nbconvert_exporter": "python",
   "pygments_lexer": "ipython3",
   "version": "3.10.12"
  }
 },
 "nbformat": 4,
 "nbformat_minor": 5
}
